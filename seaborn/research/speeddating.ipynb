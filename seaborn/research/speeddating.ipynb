{
 "cells": [
  {
   "cell_type": "code",
   "execution_count": 1,
   "id": "7e9b1b5d-db00-464a-ad3c-e2ac4402117c",
   "metadata": {},
   "outputs": [],
   "source": [
    "import seaborn as sns\n",
    "import matplotlib.pyplot as plt\n",
    "import numpy as np\n",
    "import pandas as pd\n",
    "\n",
    "\n"
   ]
  },
  {
   "cell_type": "code",
   "execution_count": 2,
   "id": "3a5881a4-7ea6-4033-be43-4a730b1338dd",
   "metadata": {},
   "outputs": [],
   "source": [
    "data=pd.read_csv(\"data/speeddating.csv\")"
   ]
  },
  {
   "cell_type": "code",
   "execution_count": 3,
   "id": "a5f7d5a2-296c-4f01-821e-066797508425",
   "metadata": {},
   "outputs": [
    {
     "name": "stdout",
     "output_type": "stream",
     "text": [
      "  has_null  wave     gender   age  age_o  d_age   d_d_age  \\\n",
      "0      b''   1.0  b'female'  21.0   27.0    6.0  b'[4-6]'   \n",
      "1      b''   1.0  b'female'  21.0   22.0    1.0  b'[0-1]'   \n",
      "2      b''   1.0  b'female'  21.0   22.0    1.0  b'[0-1]'   \n",
      "3      b''   1.0  b'female'  21.0   23.0    2.0  b'[2-3]'   \n",
      "4      b''   1.0  b'female'  21.0   24.0    3.0  b'[2-3]'   \n",
      "\n",
      "                                       race  \\\n",
      "0  b'Asian/Pacific Islander/Asian-American'   \n",
      "1  b'Asian/Pacific Islander/Asian-American'   \n",
      "2  b'Asian/Pacific Islander/Asian-American'   \n",
      "3  b'Asian/Pacific Islander/Asian-American'   \n",
      "4  b'Asian/Pacific Islander/Asian-American'   \n",
      "\n",
      "                                     race_o samerace  ...  \\\n",
      "0            b'European/Caucasian-American'     b'0'  ...   \n",
      "1            b'European/Caucasian-American'     b'0'  ...   \n",
      "2  b'Asian/Pacific Islander/Asian-American'     b'1'  ...   \n",
      "3            b'European/Caucasian-American'     b'0'  ...   \n",
      "4               b'Latino/Hispanic American'     b'0'  ...   \n",
      "\n",
      "   d_expected_num_interested_in_me  d_expected_num_matches like  \\\n",
      "0                         b'[0-3]'                b'[3-5]'  7.0   \n",
      "1                         b'[0-3]'                b'[3-5]'  7.0   \n",
      "2                         b'[0-3]'                b'[3-5]'  7.0   \n",
      "3                         b'[0-3]'                b'[3-5]'  7.0   \n",
      "4                         b'[0-3]'                b'[3-5]'  6.0   \n",
      "\n",
      "  guess_prob_liked    d_like  d_guess_prob_liked  met  decision  decision_o  \\\n",
      "0              6.0  b'[6-8]'            b'[5-6]'  0.0      b'1'        b'0'   \n",
      "1              5.0  b'[6-8]'            b'[5-6]'  1.0      b'1'        b'0'   \n",
      "2              NaN  b'[6-8]'            b'[0-4]'  1.0      b'1'        b'1'   \n",
      "3              6.0  b'[6-8]'            b'[5-6]'  0.0      b'1'        b'1'   \n",
      "4              6.0  b'[6-8]'            b'[5-6]'  0.0      b'1'        b'1'   \n",
      "\n",
      "   match  \n",
      "0   b'0'  \n",
      "1   b'0'  \n",
      "2   b'1'  \n",
      "3   b'1'  \n",
      "4   b'1'  \n",
      "\n",
      "[5 rows x 123 columns]\n"
     ]
    }
   ],
   "source": [
    "print(data.head())"
   ]
  },
  {
   "cell_type": "code",
   "execution_count": null,
   "id": "59c63675-e950-4f97-93f7-407362d42654",
   "metadata": {},
   "outputs": [],
   "source": []
  }
 ],
 "metadata": {
  "kernelspec": {
   "display_name": "Python 3 (ipykernel)",
   "language": "python",
   "name": "python3"
  },
  "language_info": {
   "codemirror_mode": {
    "name": "ipython",
    "version": 3
   },
   "file_extension": ".py",
   "mimetype": "text/x-python",
   "name": "python",
   "nbconvert_exporter": "python",
   "pygments_lexer": "ipython3",
   "version": "3.12.3"
  }
 },
 "nbformat": 4,
 "nbformat_minor": 5
}
