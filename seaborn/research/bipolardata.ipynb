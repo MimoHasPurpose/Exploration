{
 "cells": [
  {
   "cell_type": "code",
   "execution_count": 1,
   "id": "4bb8ba82-5fc0-4ae3-97f9-d8ae39b0201c",
   "metadata": {},
   "outputs": [],
   "source": [
    "import seaborn as sns\n",
    "import matplotlib.pyplot as plt\n",
    "import numpy as np\n",
    "import pandas as pd\n",
    "\n",
    "\n"
   ]
  },
  {
   "cell_type": "code",
   "execution_count": 2,
   "id": "3c373764-5a70-44a7-ade7-6611f7e16443",
   "metadata": {},
   "outputs": [],
   "source": [
    "data=pd.read_csv(\"data/bipolar.csv\")"
   ]
  },
  {
   "cell_type": "code",
   "execution_count": 3,
   "id": "3f24fde0-ec6d-42c3-92af-c9b2c9e0b8c7",
   "metadata": {},
   "outputs": [
    {
     "data": {
      "text/plain": [
       "(153, 27)"
      ]
     },
     "execution_count": 3,
     "metadata": {},
     "output_type": "execute_result"
    }
   ],
   "source": [
    "data.columns\n",
    "data.shape"
   ]
  },
  {
   "cell_type": "code",
   "execution_count": 4,
   "id": "43eefedf-50a4-4694-b1db-94a7fbf285af",
   "metadata": {},
   "outputs": [
    {
     "data": {
      "text/plain": [
       "Index(['Timestamp', 'Name', 'Age Group', 'Gender', 'Employment Status',\n",
       "       'Unnamed: 5',\n",
       "       'Have you or someone you know been diagnosed with bipolar disorder?',\n",
       "       'If yes ,then how long ago?\\n',\n",
       "       'How often do you experience periods of intense Happiness?',\n",
       "       'During high-energy periods, do you find yourself excessively active or talkative?',\n",
       "       'How would you describe your sleep patterns during mood changes?',\n",
       "       'Have you engaged in impulsive or risky activities during elevated mood periods?',\n",
       "       'Do you experience persistent sadness, low energy, or loss of interest in activities?',\n",
       "       'How would you rate your ability to concentrate during mood episodes?',\n",
       "       'Have your relationships been significantly affected by your mood swings?',\n",
       "       'Have you ever had thoughts of self-harm or suicide?',\n",
       "       'Have you sought professional help or treatment for your mood symptoms?',\n",
       "       'How would you describe the overall impact of mood swings on your daily life?',\n",
       "       'Have you experienced any change in appetite and weight  during mood episodes?',\n",
       "       'Have you faced any difficulties in maintaing focused and concentration during extreme emotional state?\\n',\n",
       "       'Do you tend to avoid or reduce participation in social activities when experiencing manic episodes?',\n",
       "       'Are there specific triggers that tend to precede your mood episodes?\\n',\n",
       "       'Are you currently receiving treatment for bipolar disorder?',\n",
       "       'What type of treatment have you received for bipolar disorder? ',\n",
       "       'How do  your family and friends support  you in managing bipolar disorder?',\n",
       "       'Do you feel optimistic(confident) about your future managing bipolar disorder?',\n",
       "       'Are there any specific goals or improvement you hope to achieve in your journey with bipolar disorder?'],\n",
       "      dtype='object')"
      ]
     },
     "execution_count": 4,
     "metadata": {},
     "output_type": "execute_result"
    }
   ],
   "source": [
    "data.columns"
   ]
  },
  {
   "cell_type": "code",
   "execution_count": 9,
   "id": "92354876-c97b-4144-91a5-c3e62498ac56",
   "metadata": {},
   "outputs": [],
   "source": [
    "data1=data[[\"Age Group\",\"Gender\",\"Have you ever had thoughts of self-harm or suicide?\"]]"
   ]
  },
  {
   "cell_type": "code",
   "execution_count": 11,
   "id": "8f9ba114-cc24-4d8c-812e-f1275239ade9",
   "metadata": {},
   "outputs": [
    {
     "data": {
      "text/html": [
       "<div>\n",
       "<style scoped>\n",
       "    .dataframe tbody tr th:only-of-type {\n",
       "        vertical-align: middle;\n",
       "    }\n",
       "\n",
       "    .dataframe tbody tr th {\n",
       "        vertical-align: top;\n",
       "    }\n",
       "\n",
       "    .dataframe thead th {\n",
       "        text-align: right;\n",
       "    }\n",
       "</style>\n",
       "<table border=\"1\" class=\"dataframe\">\n",
       "  <thead>\n",
       "    <tr style=\"text-align: right;\">\n",
       "      <th></th>\n",
       "      <th>Age Group</th>\n",
       "      <th>Gender</th>\n",
       "      <th>Have you ever had thoughts of self-harm or suicide?</th>\n",
       "    </tr>\n",
       "  </thead>\n",
       "  <tbody>\n",
       "    <tr>\n",
       "      <th>0</th>\n",
       "      <td>under 20</td>\n",
       "      <td>Female</td>\n",
       "      <td>Sometimes</td>\n",
       "    </tr>\n",
       "    <tr>\n",
       "      <th>1</th>\n",
       "      <td>20-25</td>\n",
       "      <td>Female</td>\n",
       "      <td>Often</td>\n",
       "    </tr>\n",
       "    <tr>\n",
       "      <th>2</th>\n",
       "      <td>under 20</td>\n",
       "      <td>Female</td>\n",
       "      <td>Often</td>\n",
       "    </tr>\n",
       "    <tr>\n",
       "      <th>3</th>\n",
       "      <td>20-25</td>\n",
       "      <td>Male</td>\n",
       "      <td>Never</td>\n",
       "    </tr>\n",
       "    <tr>\n",
       "      <th>4</th>\n",
       "      <td>20-25</td>\n",
       "      <td>Female</td>\n",
       "      <td>Sometimes</td>\n",
       "    </tr>\n",
       "    <tr>\n",
       "      <th>...</th>\n",
       "      <td>...</td>\n",
       "      <td>...</td>\n",
       "      <td>...</td>\n",
       "    </tr>\n",
       "    <tr>\n",
       "      <th>95</th>\n",
       "      <td>20-25</td>\n",
       "      <td>Female</td>\n",
       "      <td>Never</td>\n",
       "    </tr>\n",
       "    <tr>\n",
       "      <th>96</th>\n",
       "      <td>20-25</td>\n",
       "      <td>Female</td>\n",
       "      <td>Never</td>\n",
       "    </tr>\n",
       "    <tr>\n",
       "      <th>97</th>\n",
       "      <td>20-25</td>\n",
       "      <td>Female</td>\n",
       "      <td>Never</td>\n",
       "    </tr>\n",
       "    <tr>\n",
       "      <th>98</th>\n",
       "      <td>under 20</td>\n",
       "      <td>Female</td>\n",
       "      <td>Sometimes</td>\n",
       "    </tr>\n",
       "    <tr>\n",
       "      <th>99</th>\n",
       "      <td>20-25</td>\n",
       "      <td>Female</td>\n",
       "      <td>Never</td>\n",
       "    </tr>\n",
       "  </tbody>\n",
       "</table>\n",
       "<p>100 rows × 3 columns</p>\n",
       "</div>"
      ],
      "text/plain": [
       "   Age Group  Gender Have you ever had thoughts of self-harm or suicide?\n",
       "0   under 20  Female                                          Sometimes \n",
       "1      20-25  Female                                              Often \n",
       "2   under 20  Female                                              Often \n",
       "3      20-25    Male                                              Never \n",
       "4      20-25  Female                                          Sometimes \n",
       "..       ...     ...                                                ... \n",
       "95     20-25  Female                                              Never \n",
       "96     20-25  Female                                              Never \n",
       "97     20-25  Female                                              Never \n",
       "98  under 20  Female                                          Sometimes \n",
       "99     20-25  Female                                              Never \n",
       "\n",
       "[100 rows x 3 columns]"
      ]
     },
     "execution_count": 11,
     "metadata": {},
     "output_type": "execute_result"
    }
   ],
   "source": [
    "data1.head(100)"
   ]
  },
  {
   "cell_type": "code",
   "execution_count": 14,
   "id": "142f31e5-864b-4f4b-827a-4c5d7f25faaa",
   "metadata": {},
   "outputs": [
    {
     "data": {
      "text/plain": [
       "Gender\n",
       "Female    93\n",
       "Male      60\n",
       "Name: count, dtype: int64"
      ]
     },
     "execution_count": 14,
     "metadata": {},
     "output_type": "execute_result"
    }
   ],
   "source": [
    "data1[\"Gender\"].value_counts()"
   ]
  },
  {
   "cell_type": "code",
   "execution_count": 22,
   "id": "20b2abda-e40e-4a44-a830-df33b39d115b",
   "metadata": {},
   "outputs": [
    {
     "data": {
      "text/plain": [
       "Have you ever had thoughts of self-harm or suicide?\n",
       "Never        60\n",
       "Sometimes    37\n",
       "Rarely       36\n",
       "Often        20\n",
       "Name: count, dtype: int64"
      ]
     },
     "execution_count": 22,
     "metadata": {},
     "output_type": "execute_result"
    }
   ],
   "source": [
    "data1['Have you ever had thoughts of self-harm or suicide?'].value_counts()"
   ]
  },
  {
   "cell_type": "code",
   "execution_count": 23,
   "id": "adee3651-8d77-43c0-bbd0-522a80c78bf5",
   "metadata": {},
   "outputs": [
    {
     "data": {
      "text/plain": [
       "Index(['Age Group', 'Gender',\n",
       "       'Have you ever had thoughts of self-harm or suicide?'],\n",
       "      dtype='object')"
      ]
     },
     "execution_count": 23,
     "metadata": {},
     "output_type": "execute_result"
    }
   ],
   "source": [
    "data1.columns"
   ]
  },
  {
   "cell_type": "code",
   "execution_count": 27,
   "id": "32c4989a-f419-4422-8d54-1dc19960b965",
   "metadata": {},
   "outputs": [
    {
     "data": {
      "text/plain": [
       "459"
      ]
     },
     "execution_count": 27,
     "metadata": {},
     "output_type": "execute_result"
    }
   ],
   "source": [
    "data1.size"
   ]
  },
  {
   "cell_type": "code",
   "execution_count": null,
   "id": "2ebec398-d3de-46ae-b549-82f030517773",
   "metadata": {},
   "outputs": [],
   "source": []
  }
 ],
 "metadata": {
  "kernelspec": {
   "display_name": "Python 3 (ipykernel)",
   "language": "python",
   "name": "python3"
  },
  "language_info": {
   "codemirror_mode": {
    "name": "ipython",
    "version": 3
   },
   "file_extension": ".py",
   "mimetype": "text/x-python",
   "name": "python",
   "nbconvert_exporter": "python",
   "pygments_lexer": "ipython3",
   "version": "3.12.3"
  }
 },
 "nbformat": 4,
 "nbformat_minor": 5
}
