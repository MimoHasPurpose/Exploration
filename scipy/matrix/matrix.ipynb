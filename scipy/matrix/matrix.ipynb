{
 "cells": [
  {
   "cell_type": "code",
   "execution_count": 5,
   "id": "4b1c0bc7-93cb-453c-8640-6cfd8d335bd9",
   "metadata": {},
   "outputs": [
    {
     "name": "stdout",
     "output_type": "stream",
     "text": [
      "[[1 2]\n",
      " [4 5]]\n",
      "-3.0\n"
     ]
    }
   ],
   "source": [
    "import numpy as np\n",
    "from scipy.linalg import solve_triangular\n",
    "import pandas as pd\n",
    "from scipy import linalg\n",
    "import seaborn as sns\n"
   ]
  },
  {
   "cell_type": "code",
   "execution_count": 6,
   "id": "8b848b24-20f4-441f-8721-be8054d69319",
   "metadata": {},
   "outputs": [
    {
     "name": "stdout",
     "output_type": "stream",
     "text": [
      "[[1 2]\n",
      " [4 5]]\n",
      "-3.0\n"
     ]
    }
   ],
   "source": [
    "#determinant\n",
    "a=np.array([[1,2],[4,5]])\n",
    "print(a)\n",
    "print(linalg.det(a))\n",
    "\n"
   ]
  },
  {
   "cell_type": "code",
   "execution_count": 8,
   "id": "a34c41ff-fcff-4d19-bddf-8da4103c25ed",
   "metadata": {},
   "outputs": [
    {
     "name": "stdout",
     "output_type": "stream",
     "text": [
      "[ 1.33333333 -0.66666667  2.66666667 -1.33333333]\n",
      "[4. 2. 4. 2.]\n"
     ]
    }
   ],
   "source": [
    "#solve \n",
    "a = np.array([[3, 0, 0, 0], [2, 1, 0, 0], [1, 0, 1, 0], [1, 1, 1, 1]])\n",
    "b = np.array([4, 2, 4, 2])\n",
    "x=solve_triangular(a,b,lower=True)\n",
    "print(x)\n",
    "print(a.dot(x))"
   ]
  },
  {
   "cell_type": "code",
   "execution_count": 9,
   "id": "d1912e9d-7518-43d2-baff-608418022398",
   "metadata": {},
   "outputs": [
    {
     "name": "stdout",
     "output_type": "stream",
     "text": [
      "[ 2. -2.  9.]\n"
     ]
    }
   ],
   "source": [
    "# linear equations solution\n",
    "a = np.array([[3, 2, 0], [1, -1, 0], [0, 5, 1]])\n",
    "b = np.array([2, 4, -1])\n",
    "x=linalg.solve(a,b)\n",
    "print(x)"
   ]
  },
  {
   "cell_type": "code",
   "execution_count": 11,
   "id": "e04de899-aa29-43f5-b74b-ebe0e082d9de",
   "metadata": {},
   "outputs": [],
   "source": [
    "A=np.array([[1,2],[3,4]])"
   ]
  },
  {
   "cell_type": "code",
   "execution_count": 12,
   "id": "d1e1fd32-cd3d-48e4-aeb0-7cbedfcb897c",
   "metadata": {},
   "outputs": [],
   "source": [
    "la,v=linalg.eig(A)"
   ]
  },
  {
   "cell_type": "code",
   "execution_count": 13,
   "id": "6aaf5c88-3987-4751-8dd7-20b269468732",
   "metadata": {},
   "outputs": [],
   "source": [
    "l1,l2=la"
   ]
  },
  {
   "cell_type": "code",
   "execution_count": 15,
   "id": "3d478059-94ad-4f2e-8e80-dc857634093d",
   "metadata": {},
   "outputs": [
    {
     "name": "stdout",
     "output_type": "stream",
     "text": [
      "(-0.3722813232690143+0j) (5.372281323269014+0j)\n"
     ]
    }
   ],
   "source": [
    "print(l1,l2) #eigen values)"
   ]
  },
  {
   "cell_type": "code",
   "execution_count": 17,
   "id": "58d4dfaf-0abd-49af-a3a2-729cf0757fa5",
   "metadata": {},
   "outputs": [
    {
     "name": "stdout",
     "output_type": "stream",
     "text": [
      "[-0.82456484  0.56576746]\n"
     ]
    }
   ],
   "source": [
    "print(v[:,0]) #first eigen vector"
   ]
  },
  {
   "cell_type": "code",
   "execution_count": 19,
   "id": "e05f8ae7-689b-407a-97e5-b474a3b04326",
   "metadata": {},
   "outputs": [
    {
     "name": "stdout",
     "output_type": "stream",
     "text": [
      "[[ 51.9689562   74.73656457]\n",
      " [112.10484685 164.07380305]]\n"
     ]
    }
   ],
   "source": [
    "A=[[1,2],[3,4]]\n",
    "print(linalg.expm(A))"
   ]
  },
  {
   "cell_type": "code",
   "execution_count": null,
   "id": "b5aa9dfa-7e2d-4870-9738-7b151600636a",
   "metadata": {},
   "outputs": [],
   "source": []
  }
 ],
 "metadata": {
  "kernelspec": {
   "display_name": "Python 3 (ipykernel)",
   "language": "python",
   "name": "python3"
  },
  "language_info": {
   "codemirror_mode": {
    "name": "ipython",
    "version": 3
   },
   "file_extension": ".py",
   "mimetype": "text/x-python",
   "name": "python",
   "nbconvert_exporter": "python",
   "pygments_lexer": "ipython3",
   "version": "3.12.3"
  }
 },
 "nbformat": 4,
 "nbformat_minor": 5
}
