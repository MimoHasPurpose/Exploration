{
 "cells": [
  {
   "cell_type": "code",
   "execution_count": 5,
   "id": "4b1c0bc7-93cb-453c-8640-6cfd8d335bd9",
   "metadata": {},
   "outputs": [
    {
     "name": "stdout",
     "output_type": "stream",
     "text": [
      "[[1 2]\n",
      " [4 5]]\n",
      "-3.0\n"
     ]
    }
   ],
   "source": [
    "import numpy as np\n",
    "from scipy.linalg import solve_triangular\n",
    "import pandas as pd\n",
    "from scipy import linalg\n",
    "import seaborn as sns\n"
   ]
  },
  {
   "cell_type": "code",
   "execution_count": 6,
   "id": "8b848b24-20f4-441f-8721-be8054d69319",
   "metadata": {},
   "outputs": [
    {
     "name": "stdout",
     "output_type": "stream",
     "text": [
      "[[1 2]\n",
      " [4 5]]\n",
      "-3.0\n"
     ]
    }
   ],
   "source": [
    "\n",
    "a=np.array([[1,2],[4,5]])\n",
    "print(a)\n",
    "print(linalg.det(a))\n",
    "\n"
   ]
  },
  {
   "cell_type": "code",
   "execution_count": 4,
   "id": "a34c41ff-fcff-4d19-bddf-8da4103c25ed",
   "metadata": {},
   "outputs": [
    {
     "name": "stdout",
     "output_type": "stream",
     "text": [
      "[ 1.33333333 -0.66666667  2.66666667 -1.33333333]\n",
      "[4. 2. 4. 2.]\n"
     ]
    }
   ],
   "source": [
    " \n",
    "a = np.array([[3, 0, 0, 0], [2, 1, 0, 0], [1, 0, 1, 0], [1, 1, 1, 1]])\n",
    "b = np.array([4, 2, 4, 2])\n",
    "x=solve_triangular(a,b,lower=True)\n",
    "print(x)\n",
    "print(a.dot(x))"
   ]
  },
  {
   "cell_type": "code",
   "execution_count": 3,
   "id": "d1912e9d-7518-43d2-baff-608418022398",
   "metadata": {},
   "outputs": [
    {
     "name": "stdout",
     "output_type": "stream",
     "text": [
      "[ 2. -2.  9.]\n"
     ]
    }
   ],
   "source": [
    "\n",
    "a = np.array([[3, 2, 0], [1, -1, 0], [0, 5, 1]])\n",
    "b = np.array([2, 4, -1])\n",
    "x=linalg.solve(a,b)\n",
    "print(x)"
   ]
  },
  {
   "cell_type": "code",
   "execution_count": null,
   "id": "e04de899-aa29-43f5-b74b-ebe0e082d9de",
   "metadata": {},
   "outputs": [],
   "source": []
  }
 ],
 "metadata": {
  "kernelspec": {
   "display_name": "Python 3 (ipykernel)",
   "language": "python",
   "name": "python3"
  },
  "language_info": {
   "codemirror_mode": {
    "name": "ipython",
    "version": 3
   },
   "file_extension": ".py",
   "mimetype": "text/x-python",
   "name": "python",
   "nbconvert_exporter": "python",
   "pygments_lexer": "ipython3",
   "version": "3.12.3"
  }
 },
 "nbformat": 4,
 "nbformat_minor": 5
}
