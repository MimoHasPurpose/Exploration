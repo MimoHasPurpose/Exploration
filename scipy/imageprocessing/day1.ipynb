{
 "cells": [
  {
   "cell_type": "code",
   "execution_count": 2,
   "id": "eb90fe2c-b26a-4cac-bcee-68df34ed5a6c",
   "metadata": {},
   "outputs": [],
   "source": [
    "from scipy.ndimage import correlate"
   ]
  },
  {
   "cell_type": "code",
   "execution_count": 3,
   "id": "274b8c68-efd5-4d80-83d0-b5a86af57e6c",
   "metadata": {},
   "outputs": [],
   "source": [
    "import numpy as np\n"
   ]
  },
  {
   "cell_type": "code",
   "execution_count": 4,
   "id": "eadc1b01-91fa-4ded-9961-4b82ba41256a",
   "metadata": {},
   "outputs": [
    {
     "data": {
      "text/plain": [
       "array([ 0,  2,  6,  9, 13, 16, 20, 23, 27, 30])"
      ]
     },
     "execution_count": 4,
     "metadata": {},
     "output_type": "execute_result"
    }
   ],
   "source": [
    "correlate(np.arange(10),[1,2.5])"
   ]
  },
  {
   "cell_type": "code",
   "execution_count": 5,
   "id": "ca2be8e1-8481-411d-839e-dce59ce0ad3a",
   "metadata": {},
   "outputs": [],
   "source": [
    "## cross shaped kernel"
   ]
  },
  {
   "cell_type": "code",
   "execution_count": 6,
   "id": "18fa6faa-94c6-4c72-988a-ac80fbca6b47",
   "metadata": {},
   "outputs": [],
   "source": [
    "footprint=np.array([[0,1,0],[1,1,1],[0,1,0]])"
   ]
  },
  {
   "cell_type": "code",
   "execution_count": 7,
   "id": "f90dd057-cf90-4630-a43d-199dcbbf8e4f",
   "metadata": {},
   "outputs": [
    {
     "data": {
      "text/plain": [
       "array([[0, 1, 0],\n",
       "       [1, 1, 1],\n",
       "       [0, 1, 0]])"
      ]
     },
     "execution_count": 7,
     "metadata": {},
     "output_type": "execute_result"
    }
   ],
   "source": [
    "footprint"
   ]
  },
  {
   "cell_type": "code",
   "execution_count": 8,
   "id": "3d423b19-5d6c-4fa1-b78a-c09feb967c21",
   "metadata": {},
   "outputs": [],
   "source": [
    "from scipy.ndimage import correlate1d"
   ]
  },
  {
   "cell_type": "code",
   "execution_count": 9,
   "id": "85c5e147-18be-4203-9970-f4287dfbfdc1",
   "metadata": {},
   "outputs": [],
   "source": [
    "a=[0,0,0,1,0,0,0]"
   ]
  },
  {
   "cell_type": "code",
   "execution_count": 10,
   "id": "b63f06a4-8bf7-4634-b6e7-18a07d07dca4",
   "metadata": {},
   "outputs": [
    {
     "data": {
      "text/plain": [
       "array([0, 0, 1, 1, 1, 0, 0])"
      ]
     },
     "execution_count": 10,
     "metadata": {},
     "output_type": "execute_result"
    }
   ],
   "source": [
    "correlate1d(a,[1,1,1])"
   ]
  },
  {
   "cell_type": "code",
   "execution_count": null,
   "id": "2e2df1f5-933f-4444-8182-a34a41396789",
   "metadata": {},
   "outputs": [],
   "source": []
  },
  {
   "cell_type": "code",
   "execution_count": null,
   "id": "077a31db-67ab-41fd-8644-52580f04a6f9",
   "metadata": {},
   "outputs": [],
   "source": []
  },
  {
   "cell_type": "code",
   "execution_count": null,
   "id": "24b4ff62-192d-47d7-84fd-26645d6fdd09",
   "metadata": {},
   "outputs": [],
   "source": []
  }
 ],
 "metadata": {
  "kernelspec": {
   "display_name": "Python 3 (ipykernel)",
   "language": "python",
   "name": "python3"
  },
  "language_info": {
   "codemirror_mode": {
    "name": "ipython",
    "version": 3
   },
   "file_extension": ".py",
   "mimetype": "text/x-python",
   "name": "python",
   "nbconvert_exporter": "python",
   "pygments_lexer": "ipython3",
   "version": "3.12.3"
  }
 },
 "nbformat": 4,
 "nbformat_minor": 5
}
